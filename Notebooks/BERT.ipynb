{
 "cells": [
  {
   "cell_type": "code",
   "execution_count": null,
   "metadata": {},
   "outputs": [],
   "source": [
    "import torch\n",
    "from torch import nn\n",
    "from torch.utils.data import Dataset, DataLoader\n",
    "from sklearn.model_selection import train_test_split\n",
    "import pandas as pd\n",
    "from transformers import BertTokenizer, BertModel, AutoTokenizer\n",
    "import matplotlib.pyplot as plt\n",
    "from torchinfo import summary\n",
    "import os\n",
    "import re"
   ]
  },
  {
   "cell_type": "code",
   "execution_count": null,
   "metadata": {},
   "outputs": [
    {
     "name": "stderr",
     "output_type": "stream",
     "text": [
      "/usr/local/lib/python3.11/dist-packages/huggingface_hub/utils/_auth.py:94: UserWarning: \n",
      "The secret `HF_TOKEN` does not exist in your Colab secrets.\n",
      "To authenticate with the Hugging Face Hub, create a token in your settings tab (https://huggingface.co/settings/tokens), set it as secret in your Google Colab and restart your session.\n",
      "You will be able to reuse this secret in all of your notebooks.\n",
      "Please note that authentication is recommended but still optional to access public models or datasets.\n",
      "  warnings.warn(\n"
     ]
    },
    {
     "data": {
      "application/vnd.jupyter.widget-view+json": {
       "model_id": "d52b6c35454b4c1facab41f4e2be6794",
       "version_major": 2,
       "version_minor": 0
      },
      "text/plain": [
       "tokenizer_config.json:   0%|          | 0.00/48.0 [00:00<?, ?B/s]"
      ]
     },
     "metadata": {},
     "output_type": "display_data"
    },
    {
     "data": {
      "application/vnd.jupyter.widget-view+json": {
       "model_id": "371e685e880e4fee99a326e9ba2d56f1",
       "version_major": 2,
       "version_minor": 0
      },
      "text/plain": [
       "vocab.txt:   0%|          | 0.00/232k [00:00<?, ?B/s]"
      ]
     },
     "metadata": {},
     "output_type": "display_data"
    },
    {
     "data": {
      "application/vnd.jupyter.widget-view+json": {
       "model_id": "e199f90d2e574cba83560102b1a4ea35",
       "version_major": 2,
       "version_minor": 0
      },
      "text/plain": [
       "tokenizer.json:   0%|          | 0.00/466k [00:00<?, ?B/s]"
      ]
     },
     "metadata": {},
     "output_type": "display_data"
    },
    {
     "data": {
      "application/vnd.jupyter.widget-view+json": {
       "model_id": "c34c76dd3c2e425f85cac3c9150bba62",
       "version_major": 2,
       "version_minor": 0
      },
      "text/plain": [
       "config.json:   0%|          | 0.00/570 [00:00<?, ?B/s]"
      ]
     },
     "metadata": {},
     "output_type": "display_data"
    },
    {
     "name": "stderr",
     "output_type": "stream",
     "text": [
      "Xet Storage is enabled for this repo, but the 'hf_xet' package is not installed. Falling back to regular HTTP download. For better performance, install the package with: `pip install huggingface_hub[hf_xet]` or `pip install hf_xet`\n",
      "WARNING:huggingface_hub.file_download:Xet Storage is enabled for this repo, but the 'hf_xet' package is not installed. Falling back to regular HTTP download. For better performance, install the package with: `pip install huggingface_hub[hf_xet]` or `pip install hf_xet`\n"
     ]
    },
    {
     "data": {
      "application/vnd.jupyter.widget-view+json": {
       "model_id": "5f79a2355aea451b87748c27fb20b377",
       "version_major": 2,
       "version_minor": 0
      },
      "text/plain": [
       "model.safetensors:   0%|          | 0.00/440M [00:00<?, ?B/s]"
      ]
     },
     "metadata": {},
     "output_type": "display_data"
    }
   ],
   "source": [
    "dataset= pd.read_csv(\"IMDB_Cleaned.csv\")\n",
    "train_data, test_data= train_test_split(dataset, test_size= 0.2, random_state= 42, stratify= dataset['sentiment'])\n",
    "tokenizer= BertTokenizer.from_pretrained('bert-base-uncased')\n",
    "model= BertModel.from_pretrained('bert-base-uncased')"
   ]
  },
  {
   "cell_type": "code",
   "execution_count": null,
   "metadata": {},
   "outputs": [
    {
     "data": {
      "text/plain": [
       "torch.Size([333])"
      ]
     },
     "execution_count": 5,
     "metadata": {},
     "output_type": "execute_result"
    }
   ],
   "source": [
    "sample_review= train_data['cleaned_review'][0]\n",
    "tokenized_review= tokenizer(sample_review, return_tensors= 'pt')\n",
    "input_ids= tokenized_review['input_ids']\n",
    "input_ids.squeeze(0).shape"
   ]
  },
  {
   "cell_type": "code",
   "execution_count": null,
   "metadata": {},
   "outputs": [],
   "source": [
    "class BERTSentimentDataset(Dataset):\n",
    "    def __init__(self, texts, labels, tokenizer, max_len):\n",
    "        self.texts= texts\n",
    "        self.labels= labels\n",
    "        self.tokenizer= tokenizer\n",
    "        self.max_len= max_len\n",
    "\n",
    "    def __len__(self):\n",
    "        return len(self.texts)\n",
    "\n",
    "    def __getitem__(self, idx):\n",
    "        text, label= self.texts[idx], self.labels[idx]\n",
    "\n",
    "        # Apply Bert Tokenizer\n",
    "        encoding= self.tokenizer(\n",
    "            text,\n",
    "            max_length= self.max_len,\n",
    "            padding= 'max_length',\n",
    "            truncation= True,\n",
    "            return_tensors= 'pt'\n",
    "        )\n",
    "\n",
    "        # Get tensors from encoding dictionary\n",
    "        input_ids= encoding['input_ids'].squeeze(0)\n",
    "        attention_mask= encoding['attention_mask'].squeeze(0)\n",
    "        token_type_ids= encoding['token_type_ids'].squeeze(0)\n",
    "\n",
    "        label_numerical= 0 if label == 'negative' else 1\n",
    "        label_tensor= torch.tensor(label_numerical, dtype= torch.long)\n",
    "\n",
    "        return input_ids, attention_mask, token_type_ids, label_tensor"
   ]
  },
  {
   "cell_type": "code",
   "execution_count": null,
   "metadata": {},
   "outputs": [
    {
     "name": "stderr",
     "output_type": "stream",
     "text": [
      "Token indices sequence length is longer than the specified maximum sequence length for this model (598 > 512). Running this sequence through the model will result in indexing errors\n"
     ]
    },
    {
     "data": {
      "text/html": [
       "<div>\n",
       "<style scoped>\n",
       "    .dataframe tbody tr th:only-of-type {\n",
       "        vertical-align: middle;\n",
       "    }\n",
       "\n",
       "    .dataframe tbody tr th {\n",
       "        vertical-align: top;\n",
       "    }\n",
       "\n",
       "    .dataframe thead th {\n",
       "        text-align: right;\n",
       "    }\n",
       "</style>\n",
       "<table border=\"1\" class=\"dataframe\">\n",
       "  <thead>\n",
       "    <tr style=\"text-align: right;\">\n",
       "      <th></th>\n",
       "      <th>0</th>\n",
       "    </tr>\n",
       "  </thead>\n",
       "  <tbody>\n",
       "    <tr>\n",
       "      <th>count</th>\n",
       "      <td>40000.000000</td>\n",
       "    </tr>\n",
       "    <tr>\n",
       "      <th>mean</th>\n",
       "      <td>254.273525</td>\n",
       "    </tr>\n",
       "    <tr>\n",
       "      <th>std</th>\n",
       "      <td>188.161314</td>\n",
       "    </tr>\n",
       "    <tr>\n",
       "      <th>min</th>\n",
       "      <td>11.000000</td>\n",
       "    </tr>\n",
       "    <tr>\n",
       "      <th>50%</th>\n",
       "      <td>190.000000</td>\n",
       "    </tr>\n",
       "    <tr>\n",
       "      <th>70%</th>\n",
       "      <td>274.000000</td>\n",
       "    </tr>\n",
       "    <tr>\n",
       "      <th>75%</th>\n",
       "      <td>309.000000</td>\n",
       "    </tr>\n",
       "    <tr>\n",
       "      <th>80%</th>\n",
       "      <td>352.000000</td>\n",
       "    </tr>\n",
       "    <tr>\n",
       "      <th>85%</th>\n",
       "      <td>410.000000</td>\n",
       "    </tr>\n",
       "    <tr>\n",
       "      <th>90%</th>\n",
       "      <td>497.000000</td>\n",
       "    </tr>\n",
       "    <tr>\n",
       "      <th>max</th>\n",
       "      <td>2744.000000</td>\n",
       "    </tr>\n",
       "  </tbody>\n",
       "</table>\n",
       "</div><br><label><b>dtype:</b> float64</label>"
      ],
      "text/plain": [
       "count    40000.000000\n",
       "mean       254.273525\n",
       "std        188.161314\n",
       "min         11.000000\n",
       "50%        190.000000\n",
       "70%        274.000000\n",
       "75%        309.000000\n",
       "80%        352.000000\n",
       "85%        410.000000\n",
       "90%        497.000000\n",
       "max       2744.000000\n",
       "dtype: float64"
      ]
     },
     "execution_count": 7,
     "metadata": {},
     "output_type": "execute_result"
    }
   ],
   "source": [
    "# Getting subword lengths distribution\n",
    "tokenizer= AutoTokenizer.from_pretrained('bert-base-uncased')\n",
    "subword_lengths= []\n",
    "\n",
    "batch_size_for_lengths= 1000\n",
    "for i in range(0, len(train_data), batch_size_for_lengths):\n",
    "    batch_texts= train_data['cleaned_review'].tolist()[i: i+ batch_size_for_lengths]\n",
    "    encodings= tokenizer(batch_texts, add_special_tokens= True, padding= False, truncation= False)\n",
    "    batch_lengths= [len(ids) for ids in encodings['input_ids']]\n",
    "    subword_lengths.extend(batch_lengths)\n",
    "\n",
    "pd.Series(subword_lengths).describe(percentiles= [0.7, 0.75, 0.8, 0.85, 0.9])"
   ]
  },
  {
   "cell_type": "code",
   "execution_count": null,
   "metadata": {},
   "outputs": [
    {
     "data": {
      "text/plain": [
       "(tensor(1), 'positive')"
      ]
     },
     "execution_count": 8,
     "metadata": {},
     "output_type": "execute_result"
    }
   ],
   "source": [
    "max_length= 352\n",
    "tokenizer= BertTokenizer.from_pretrained('bert-base-uncased')\n",
    "train_pt_ds= BERTSentimentDataset(texts= train_data['cleaned_review'].tolist(),\n",
    "                                labels= train_data['sentiment'].tolist(),\n",
    "                                tokenizer= tokenizer,\n",
    "                                max_len= max_length\n",
    "                                )\n",
    "test_pt_ds= BERTSentimentDataset(texts= train_data['cleaned_review'].tolist(),\n",
    "                                 labels= train_data['sentiment'].tolist(),\n",
    "                                 tokenizer= tokenizer,\n",
    "                                 max_len= max_length\n",
    "                                 )\n",
    "input_ids, attention_mask, token_type_ids, label= train_pt_ds[0]\n",
    "label, train_data['sentiment'][0]"
   ]
  },
  {
   "cell_type": "code",
   "execution_count": null,
   "metadata": {},
   "outputs": [],
   "source": [
    "class CustomBertClassifier(nn.Module):\n",
    "    def __init__(self, model_name, num_classes= 2, dropout_prob= 0.1):\n",
    "        super().__init__()\n",
    "\n",
    "        self.bert= BertModel.from_pretrained(model_name)\n",
    "\n",
    "        # for param in self.bert.parameters():\n",
    "        #   param.requires_grad= False\n",
    "\n",
    "        bert_hidden_size= self.bert.config.hidden_size\n",
    "\n",
    "        self.classifier= nn.Sequential(\n",
    "            nn.Dropout(dropout_prob),\n",
    "            nn.Linear(bert_hidden_size, num_classes)\n",
    "        )\n",
    "\n",
    "    def forward(self, input_ids, attention_mask, token_type_ids):\n",
    "\n",
    "        outputs= self.bert(\n",
    "            input_ids= input_ids,\n",
    "            attention_mask= attention_mask,\n",
    "            token_type_ids= token_type_ids\n",
    "        )\n",
    "\n",
    "        pooled_output= outputs.pooler_output\n",
    "\n",
    "        logits= self.classifier(pooled_output)\n",
    "\n",
    "        return logits"
   ]
  },
  {
   "cell_type": "code",
   "execution_count": null,
   "metadata": {},
   "outputs": [],
   "source": [
    "BATCH_SIZE= 16\n",
    "train_dataloader= DataLoader(dataset= train_pt_ds, batch_size= BATCH_SIZE, shuffle= True)\n",
    "test_dataloader= DataLoader(dataset= test_pt_ds, batch_size= BATCH_SIZE, shuffle= False)"
   ]
  },
  {
   "cell_type": "code",
   "execution_count": null,
   "metadata": {},
   "outputs": [
    {
     "data": {
      "text/plain": [
       "==============================================================================================================\n",
       "Layer (type:depth-idx)                                       Output Shape              Param #\n",
       "==============================================================================================================\n",
       "CustomBertClassifier                                         [16, 2]                   --\n",
       "├─BertModel: 1-1                                             [16, 768]                 --\n",
       "│    └─BertEmbeddings: 2-1                                   [16, 352, 768]            --\n",
       "│    │    └─Embedding: 3-1                                   [16, 352, 768]            23,440,896\n",
       "│    │    └─Embedding: 3-2                                   [16, 352, 768]            1,536\n",
       "│    │    └─Embedding: 3-3                                   [1, 352, 768]             393,216\n",
       "│    │    └─LayerNorm: 3-4                                   [16, 352, 768]            1,536\n",
       "│    │    └─Dropout: 3-5                                     [16, 352, 768]            --\n",
       "│    └─BertEncoder: 2-2                                      [16, 352, 768]            --\n",
       "│    │    └─ModuleList: 3-6                                  --                        85,054,464\n",
       "│    └─BertPooler: 2-3                                       [16, 768]                 --\n",
       "│    │    └─Linear: 3-7                                      [16, 768]                 590,592\n",
       "│    │    └─Tanh: 3-8                                        [16, 768]                 --\n",
       "├─Sequential: 1-2                                            [16, 2]                   --\n",
       "│    └─Dropout: 2-4                                          [16, 768]                 --\n",
       "│    └─Linear: 2-5                                           [16, 2]                   1,538\n",
       "==============================================================================================================\n",
       "Total params: 109,483,778\n",
       "Trainable params: 109,483,778\n",
       "Non-trainable params: 0\n",
       "Total mult-adds (Units.GIGABYTES): 1.75\n",
       "==============================================================================================================\n",
       "Input size (MB): 0.14\n",
       "Forward/backward pass size (MB): 4673.67\n",
       "Params size (MB): 437.94\n",
       "Estimated Total Size (MB): 5111.74\n",
       "=============================================================================================================="
      ]
     },
     "execution_count": 11,
     "metadata": {},
     "output_type": "execute_result"
    }
   ],
   "source": [
    "MODEL_NAME= 'bert-base-uncased'\n",
    "NUM_CLASSES= 2\n",
    "DROPOUT_PROB= 0.1\n",
    "device= 'cuda' if torch.cuda.is_available() else 'cpu'\n",
    "\n",
    "bert_1_linear_classifier= CustomBertClassifier(MODEL_NAME, NUM_CLASSES, DROPOUT_PROB)\n",
    "bert_1_linear_classifier.to(device)\n",
    "optimizer= torch.optim.Adam(bert_1_linear_classifier.parameters(), lr= 2e-6, eps= 1e-8)\n",
    "loss_fn= nn.CrossEntropyLoss()\n",
    "\n",
    "sample_input_ids, sample_att_mask, sample_token_type_ids, sample_label= next(iter(train_dataloader))\n",
    "summary(bert_1_linear_classifier,\n",
    "        input_data=[\n",
    "            sample_input_ids.to(device),\n",
    "            sample_att_mask.to(device),\n",
    "            sample_token_type_ids.to(device)\n",
    "            ],\n",
    "            dtypes= [torch.long, torch.long, torch.long]\n",
    "    )"
   ]
  },
  {
   "cell_type": "code",
   "execution_count": null,
   "metadata": {},
   "outputs": [
    {
     "name": "stdout",
     "output_type": "stream",
     "text": [
      "Epoch: 1 | Train Loss: 0.0729 | Train Accuracy: 87.58% | Val_Accuracy: 92.92% | Val_Loss: 0.1873\n",
      "Epoch: 2 | Train Loss: 0.2672 | Train Accuracy: 92.53% | Val_Accuracy: 94.66% | Val_Loss: 0.1474\n",
      "Epoch: 3 | Train Loss: 0.1505 | Train Accuracy: 93.94% | Val_Accuracy: 96.15% | Val_Loss: 0.1160\n"
     ]
    }
   ],
   "source": [
    "train_losses= []\n",
    "train_accuracies= []\n",
    "test_accuracies= []\n",
    "test_losses= []\n",
    "epochs= 3\n",
    "for epoch in range(epochs):\n",
    "    bert_1_linear_classifier.train()\n",
    "    running_loss= 0.0\n",
    "    correct= 0\n",
    "    total= 0\n",
    "    for input_ids, attention_mask, token_type_ids, y in train_dataloader:\n",
    "        input_ids, attention_mask, token_type_ids, y= input_ids.to(device), attention_mask.to(device), token_type_ids.to(device), y.to(device)\n",
    "        pred= bert_1_linear_classifier(input_ids, attention_mask, token_type_ids)\n",
    "        loss= loss_fn(pred.squeeze(0), y)\n",
    "\n",
    "        optimizer.zero_grad()\n",
    "        loss.backward()\n",
    "        optimizer.step()\n",
    "\n",
    "        running_loss+= loss.item() * input_ids.size(0)\n",
    "        train_losses.append(running_loss / len(train_dataloader.dataset))\n",
    "\n",
    "        correct+= (y==pred.squeeze(0).argmax(1)).sum().item()\n",
    "        total+= y.size(0)\n",
    "\n",
    "    train_accuracy= correct/total\n",
    "    train_accuracies.append(train_accuracy)\n",
    "\n",
    "    correct= 0\n",
    "    total= 0\n",
    "    val_loss= 0.0\n",
    "    bert_1_linear_classifier.eval()\n",
    "    with torch.no_grad():\n",
    "        for input_ids, attention_mask, token_type_ids, y in test_dataloader:\n",
    "\n",
    "            input_ids, attention_mask, token_type_ids, y= input_ids.to(device), attention_mask.to(device), token_type_ids.to(device), y.to(device)\n",
    "            pred= bert_1_linear_classifier(input_ids, attention_mask, token_type_ids)\n",
    "            correct+= (y==pred.squeeze(0).argmax(1)).sum().item()\n",
    "            total+= y.size(0)\n",
    "            val_loss+= loss_fn(pred.squeeze(0), y).item() * input_ids.size(0)\n",
    "\n",
    "        val_accuracy= correct/total\n",
    "        val_loss/= len(test_dataloader.dataset)\n",
    "        test_accuracies.append(val_accuracy)\n",
    "    print(f\"Epoch: {epoch + 1} | Train Loss: {loss.item():.4f} | Train Accuracy: {train_accuracy:.2%} | Val_Accuracy: {val_accuracy:.2%} | Val_Loss: {val_loss:.4f}\")"
   ]
  },
  {
   "cell_type": "code",
   "execution_count": null,
   "metadata": {},
   "outputs": [
    {
     "data": {
      "image/png": "[encoded data removed]",
      "text/plain": [
       "<Figure size 1200x500 with 2 Axes>"
      ]
     },
     "metadata": {},
     "output_type": "display_data"
    }
   ],
   "source": [
    "epochs= range(1, len(train_accuracies) + 1)\n",
    "plt.figure(figsize=(12,5))\n",
    "plt.subplot(1,2,1)\n",
    "plt.plot(epochs, train_accuracies)\n",
    "plt.title(\"Train Accuracy\")\n",
    "plt.xlabel(\"Epochs\")\n",
    "plt.ylabel(\"Accuracy\")\n",
    "\n",
    "plt.subplot(1,2,2)\n",
    "plt.plot(epochs, test_accuracies, color= 'orange')\n",
    "plt.title(\"Test Accuracy\")\n",
    "plt.xlabel(\"Epochs\")\n",
    "plt.ylabel(\"Accuracy\")\n",
    "plt.show()\n"
   ]
  },
  {
   "cell_type": "code",
   "execution_count": null,
   "metadata": {},
   "outputs": [],
   "source": [
    "torch.save(bert_1_linear_classifier, 'bert_1_linear.pth')"
   ]
  }
 ],
 "metadata": {
  "language_info": {
   "name": "python"
  }
 },
 "nbformat": 4,
 "nbformat_minor": 0
}
