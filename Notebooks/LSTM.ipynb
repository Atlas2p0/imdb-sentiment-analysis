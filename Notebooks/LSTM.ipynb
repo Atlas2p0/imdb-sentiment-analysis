{
 "cells": [
  {
   "cell_type": "code",
   "execution_count": 17,
   "metadata": {},
   "outputs": [],
   "source": [
    "import torch\n",
    "import pandas as pd\n",
    "from torch.utils.data import Dataset, DataLoader\n",
    "from sklearn.model_selection import train_test_split\n",
    "import ast\n",
    "from torch import nn\n",
    "import matplotlib.pyplot as plt\n",
    "from torchinfo import summary\n",
    "import pickle"
   ]
  },
  {
   "cell_type": "code",
   "execution_count": 18,
   "metadata": {},
   "outputs": [],
   "source": [
    "import sys\n",
    "import os\n",
    "notebook_dir= os.path.dirname(os.path.abspath(\"__file__\"))\n",
    "project_root= os.path.abspath(os.path.join(notebook_dir, '..'))\n",
    "\n",
    "src_path= os.path.join(project_root, 'src')\n",
    "if src_path not in sys.path:\n",
    "    sys.path.append(src_path)\n",
    "\n",
    "from preproccessing import build_vocab, clean_text, tokenize_text, lemmatize_text, remove_stopwords"
   ]
  },
  {
   "cell_type": "code",
   "execution_count": 19,
   "metadata": {},
   "outputs": [
    {
     "name": "stdout",
     "output_type": "stream",
     "text": [
      "Sucessfully string back to lists\n"
     ]
    }
   ],
   "source": [
    "df= pd.read_csv('../data/Processed-Dataset.csv')\n",
    "try:\n",
    "    df['lemmatized_tokens']= df['lemmatized_tokens'].apply(ast.literal_eval)\n",
    "    df['tokenized_reviews']= df['tokenized_reviews'].apply(ast.literal_eval)\n",
    "    print(\"Sucessfully string back to lists\")\n",
    "except(ValueError,  SyntaxError) as e:\n",
    "    print(f\"Error converting column from string to list: {e}\")\n"
   ]
  },
  {
   "cell_type": "code",
   "execution_count": 20,
   "metadata": {},
   "outputs": [],
   "source": [
    "train_df, test_df= train_test_split(df, test_size= 0.2, random_state= 42, stratify= df['sentiment'])"
   ]
  },
  {
   "cell_type": "code",
   "execution_count": 21,
   "metadata": {},
   "outputs": [],
   "source": [
    "train_df.to_csv('../data/train_dataframe.csv')"
   ]
  },
  {
   "cell_type": "code",
   "execution_count": 22,
   "metadata": {},
   "outputs": [],
   "source": [
    "class TextSentimentDataset(Dataset):\n",
    "    def __init__(self, lemmatized_tokens, labels, vocab, max_len):\n",
    "        \n",
    "        self.samples= list(zip(lemmatized_tokens, labels))\n",
    "        \n",
    "        self.vocab= vocab\n",
    "        self.max_len= max_len\n",
    "\n",
    "        self.pad_idx= vocab.get('<PAD>', 0)\n",
    "        self.unk_idx= vocab.get('<UNK>', 1)\n",
    "    def __len__(self):\n",
    "        return len(self.samples)\n",
    "    \n",
    "    def __getitem__(self, idx):\n",
    "        lemmatized_tokens, label= self.samples[idx]\n",
    "\n",
    "        # 1. Numericalize the tokens and labels\n",
    "        indexed_tokens= [\n",
    "            self.vocab.get(token, self.unk_idx)\n",
    "            for token in lemmatized_tokens\n",
    "        ]\n",
    "        # Keeping track of original length\n",
    "        original_length= len(indexed_tokens)\n",
    "        # If we're not gonna pad then original_length shouldn't be more than max_len\n",
    "        if original_length > self.max_len:\n",
    "            original_length= self.max_len\n",
    "\n",
    "        numerical_labels= 0 if label == 'negative' else 1\n",
    "        # 2. Pad or Truncate based on Max Length\n",
    "        if len(indexed_tokens) > self.max_len:\n",
    "            indexed_tokens= indexed_tokens[:self.max_len]\n",
    "        else:\n",
    "            padding_length= self.max_len - len(indexed_tokens)\n",
    "            padding= [self.pad_idx] * padding_length\n",
    "            indexed_tokens= indexed_tokens + padding\n",
    "        # 3. Convert indeces & labels to PyTorch Tensor\n",
    "        text_tensor= torch.tensor(indexed_tokens, dtype= torch.long)\n",
    "        label_tensor= torch.tensor(numerical_labels, dtype= torch.long)\n",
    "        \n",
    "        return text_tensor, label_tensor, original_length"
   ]
  },
  {
   "cell_type": "code",
   "execution_count": 23,
   "metadata": {},
   "outputs": [],
   "source": [
    "def collate_batch(batch):\n",
    "    text_tensors, label_tensors, lengths= zip(*batch)\n",
    "\n",
    "    lengths= torch.tensor(lengths, dtype= torch.long)\n",
    "    sorted_lengths, sorted_indeces= lengths.sort(descending= True)\n",
    "    \n",
    "    sorted_text_tensors= torch.stack([text_tensors[i] for i in sorted_indeces])\n",
    "    sorted_label_tensors= torch.stack([label_tensors[i] for i in sorted_indeces])\n",
    "\n",
    "    return sorted_text_tensors, sorted_label_tensors, sorted_lengths"
   ]
  },
  {
   "cell_type": "code",
   "execution_count": 24,
   "metadata": {},
   "outputs": [
    {
     "data": {
      "text/plain": [
       "count    50000.000000\n",
       "mean       129.523300\n",
       "std         95.632529\n",
       "min          4.000000\n",
       "50%         97.000000\n",
       "70%        140.000000\n",
       "75%        157.000000\n",
       "80%        179.000000\n",
       "85%        208.000000\n",
       "90%        253.000000\n",
       "95%        330.000000\n",
       "max       1491.000000\n",
       "Name: lemmatized_tokens, dtype: float64"
      ]
     },
     "execution_count": 24,
     "metadata": {},
     "output_type": "execute_result"
    }
   ],
   "source": [
    "tokenized_lengths= df['lemmatized_tokens'].apply(lambda x: len(x))\n",
    "tokenized_lengths.describe(percentiles= [0.7,0.75,0.8,0.85,0.9,0.95])"
   ]
  },
  {
   "cell_type": "code",
   "execution_count": 25,
   "metadata": {},
   "outputs": [
    {
     "data": {
      "text/plain": [
       "81"
      ]
     },
     "execution_count": 25,
     "metadata": {},
     "output_type": "execute_result"
    }
   ],
   "source": [
    "# Based on the distribution of lengths shown above i've elected to use the 80th percentile as my max sequence length\n",
    "max_length= 179\n",
    "vocab, idx_to_token= build_vocab(train_df, 'lemmatized_tokens', min_freq= 5)\n",
    "train_dataset= TextSentimentDataset(lemmatized_tokens= train_df['lemmatized_tokens'],\n",
    "                                    labels= train_df['sentiment'],\n",
    "                                    vocab= vocab,\n",
    "                                    max_len= max_length)\n",
    "test_dataset= TextSentimentDataset(lemmatized_tokens= test_df['lemmatized_tokens'],\n",
    "                                   labels= test_df['sentiment'],\n",
    "                                   vocab= vocab,\n",
    "                                   max_len= max_length)\n",
    "text_tensor, label_tensor, lengths_tensor= train_dataset.__getitem__(15)\n",
    "lengths_tensor"
   ]
  },
  {
   "cell_type": "code",
   "execution_count": 29,
   "metadata": {},
   "outputs": [
    {
     "name": "stdout",
     "output_type": "stream",
     "text": [
      "Vocab successfully written to /workspaces/pytorch-gpu-2/imdb-sentiment-analysis/Notebooks/../artifacts/lstm_vocab.pkl\n"
     ]
    }
   ],
   "source": [
    "file_path= os.getcwd() + \"/../artifacts/lstm_vocab.pkl\"\n",
    "file_path\n",
    "try:\n",
    "    os.makedirs(os.path.dirname(file_path), exist_ok= True)\n",
    "    with open(file_path, 'wb') as f:\n",
    "        pickle.dump(vocab, f)\n",
    "    print(f\"Vocab successfully written to {file_path}\")\n",
    "except Exception as e:\n",
    "    print(f\"Error saving vocabulary {e}\")\n"
   ]
  },
  {
   "cell_type": "code",
   "execution_count": 139,
   "metadata": {},
   "outputs": [
    {
     "data": {
      "text/plain": [
       "39468"
      ]
     },
     "execution_count": 139,
     "metadata": {},
     "output_type": "execute_result"
    }
   ],
   "source": [
    "len(vocab)"
   ]
  },
  {
   "cell_type": "code",
   "execution_count": 12,
   "metadata": {},
   "outputs": [],
   "source": [
    "class SimpleLSTM(nn.Module):\n",
    "\n",
    "    def __init__(self, vocab_size: int, embedding_dim: int, hidden_size: int):\n",
    "        super().__init__()\n",
    "        self.embedding= nn.Embedding(num_embeddings= vocab_size,embedding_dim= embedding_dim, padding_idx= 0)\n",
    "\n",
    "        self.lstm= nn.LSTM(embedding_dim, hidden_size, batch_first= True)\n",
    "        self.dropout= nn.Dropout(p= 0.5)\n",
    "        self.fc= nn.Linear(hidden_size, 2)\n",
    "    \n",
    "    def forward(self, text_tensor: torch.Tensor, lengths: torch.Tensor):\n",
    "\n",
    "        embedded= self.embedding(text_tensor)\n",
    "    \n",
    "        packed_embedded= nn.utils.rnn.pack_padded_sequence(\n",
    "            embedded, lengths.cpu(),\n",
    "            batch_first= True, enforce_sorted= True\n",
    "        )\n",
    "        \n",
    "        packed_output, (hidden_state, cell_state)= self.lstm(packed_embedded)\n",
    "\n",
    "\n",
    "        final_hidden_state= hidden_state.squeeze(0)\n",
    "        \n",
    "        final_hidden_state= self.dropout(hidden_state)\n",
    "\n",
    "        prediction= self.fc(final_hidden_state)\n",
    "\n",
    "        return prediction"
   ]
  },
  {
   "cell_type": "code",
   "execution_count": 11,
   "metadata": {},
   "outputs": [
    {
     "data": {
      "text/plain": [
       "39468"
      ]
     },
     "execution_count": 11,
     "metadata": {},
     "output_type": "execute_result"
    }
   ],
   "source": [
    "len(vocab)"
   ]
  },
  {
   "cell_type": "code",
   "execution_count": 14,
   "metadata": {},
   "outputs": [
    {
     "data": {
      "text/plain": [
       "==========================================================================================\n",
       "Layer (type:depth-idx)                   Output Shape              Param #\n",
       "==========================================================================================\n",
       "SimpleLSTM                               [1, 64, 2]                --\n",
       "├─Embedding: 1-1                         [64, 179, 300]            11,840,400\n",
       "├─LSTM: 1-2                              [7043, 512]               1,667,072\n",
       "├─Dropout: 1-3                           [1, 64, 512]              --\n",
       "├─Linear: 1-4                            [1, 64, 2]                1,026\n",
       "==========================================================================================\n",
       "Total params: 13,508,498\n",
       "Trainable params: 13,508,498\n",
       "Non-trainable params: 0\n",
       "Total mult-adds (T): 6.01\n",
       "==========================================================================================\n",
       "Input size (MB): 0.09\n",
       "Forward/backward pass size (MB): 56.34\n",
       "Params size (MB): 54.03\n",
       "Estimated Total Size (MB): 110.47\n",
       "=========================================================================================="
      ]
     },
     "execution_count": 14,
     "metadata": {},
     "output_type": "execute_result"
    }
   ],
   "source": [
    "BATCH_SIZE= 64\n",
    "VOCAB_SIZE= len(vocab)\n",
    "EMBEDDING_DIM= 300\n",
    "HIDDEN_SIZE= 512\n",
    "train_dataloader= DataLoader(\n",
    "    train_dataset,\n",
    "    batch_size= BATCH_SIZE,\n",
    "    collate_fn= collate_batch,\n",
    "    shuffle= True\n",
    ")\n",
    "test_dataloader= DataLoader(\n",
    "    test_dataset,\n",
    "    batch_size= BATCH_SIZE,\n",
    "    collate_fn= collate_batch,\n",
    "    shuffle= False\n",
    ")\n",
    "\n",
    "device= 'cuda' if torch.cuda.is_available() else 'cpu'\n",
    "torch.manual_seed(42)\n",
    "\n",
    "simple_lstm_1= SimpleLSTM(vocab_size= VOCAB_SIZE, embedding_dim= EMBEDDING_DIM, hidden_size= HIDDEN_SIZE).to(device)\n",
    "\n",
    "\n",
    "optimizer= torch.optim.Adam(simple_lstm_1.parameters(), lr= 1e-4, weight_decay= 1e-4)\n",
    "loss_fn= nn.CrossEntropyLoss()\n",
    "text_tensor.shape\n",
    "input_shape_text= (BATCH_SIZE, max_length)\n",
    "input_shape_lengths= (BATCH_SIZE, )\n",
    "text_tensor, label_tensor, lengths_tensor= next(iter(train_dataloader))\n",
    "summary(simple_lstm_1, input_data= [text_tensor.to(device), lengths_tensor.to(device)])"
   ]
  },
  {
   "cell_type": "code",
   "execution_count": 13,
   "metadata": {},
   "outputs": [
    {
     "data": {
      "text/plain": [
       "torch.Size([1, 64, 2])"
      ]
     },
     "execution_count": 13,
     "metadata": {},
     "output_type": "execute_result"
    }
   ],
   "source": [
    "pred= simple_lstm_1(text_tensor.to(device), lengths_tensor.to(device))\n",
    "# loss_fn(pred.to(device), label_tensor.to(device))\n",
    "pred.shape"
   ]
  },
  {
   "cell_type": "code",
   "execution_count": 14,
   "metadata": {},
   "outputs": [
    {
     "name": "stderr",
     "output_type": "stream",
     "text": [
      "/tmp/ipykernel_56220/2884740863.py:17: UserWarning: torch.nn.utils.clip_grad_norm is now deprecated in favor of torch.nn.utils.clip_grad_norm_.\n",
      "  torch.nn.utils.clip_grad_norm(simple_lstm_1.parameters(), max_norm= max_grad_norm)\n"
     ]
    },
    {
     "name": "stdout",
     "output_type": "stream",
     "text": [
      "Epoch: 1 | Train Loss: 0.5857 | Train Accuracy: 68.48% | Val_Accuracy: 78.70% | Val_Loss: 0.4541\n",
      "Epoch: 2 | Train Loss: 0.4886 | Train Accuracy: 81.68% | Val_Accuracy: 81.14% | Val_Loss: 0.4158\n",
      "Epoch: 3 | Train Loss: 0.3388 | Train Accuracy: 85.25% | Val_Accuracy: 85.07% | Val_Loss: 0.3567\n",
      "Epoch: 4 | Train Loss: 0.4189 | Train Accuracy: 87.00% | Val_Accuracy: 85.64% | Val_Loss: 0.3354\n",
      "Epoch: 5 | Train Loss: 0.2015 | Train Accuracy: 87.88% | Val_Accuracy: 86.11% | Val_Loss: 0.3368\n"
     ]
    }
   ],
   "source": [
    "train_losses= []\n",
    "test_accuracies= []\n",
    "train_accuracies= []\n",
    "epochs= 5\n",
    "for epoch in range(epochs):\n",
    "    simple_lstm_1.train()\n",
    "    running_loss= 0.0\n",
    "    correct= 0\n",
    "    total= 0\n",
    "    for batch_idx, (X, y, lengths) in enumerate(train_dataloader):\n",
    "        X, y= X.to(device), y.to(device)\n",
    "        pred= simple_lstm_1(X, lengths)\n",
    "        loss= loss_fn(pred.squeeze(0), y)\n",
    "        optimizer.zero_grad()\n",
    "        loss.backward()\n",
    "        max_grad_norm= 1.0\n",
    "        torch.nn.utils.clip_grad_norm(simple_lstm_1.parameters(), max_norm= max_grad_norm)\n",
    "\n",
    "        # Gradient Diagnostics cuz model wasn't learning\n",
    "\n",
    "        # if epoch < 2 and batch_idx < 5: # Inspect gradients for first 2 epochs, first 5 batches\n",
    "        #      print(f\"\\n--- Gradients Check (Epoch {epoch+1}, Batch {batch_idx+1}) ---\")\n",
    "        #      for name, param in simple_lstm_1.named_parameters():\n",
    "        #          if param.requires_grad: # Only check parameters we are training\n",
    "\n",
    "        #              if param.grad is not None:\n",
    "        #                  # Check for NaNs or Infs\n",
    "        #                  if torch.isnan(param.grad).any() or torch.isinf(param.grad).any():\n",
    "        #                       print(f\"  !!! GRADIENT IS NaN/INF for {name} !!!\")\n",
    "        #                       # You might want to print param.grad itself or its stats here\n",
    "        #                  else:\n",
    "        #                      # Print magnitude of the gradient\n",
    "        #                      # We check different layers to see gradient flow\n",
    "        #                      if 'embedding' in name or 'rnn' in name or 'fc' in name:\n",
    "        #                          grad_magnitude = param.grad.abs().max().item() # Or .mean().item()\n",
    "        #                          print(f\"  {name}: max_abs_grad = {grad_magnitude:.6f}\")\n",
    "\n",
    "        #              else:\n",
    "        #                  print(f\"  Warning: Gradient is None for {name}\")\n",
    "        \n",
    "        optimizer.step()\n",
    "        running_loss+= loss.item() * X.size(0)\n",
    "        train_losses.append(running_loss / len(train_dataloader.dataset))\n",
    "\n",
    "        correct+= (y==pred.squeeze(0).argmax(1)).sum().item()\n",
    "        total+= y.size(0)\n",
    "    train_accuracy= correct/total\n",
    "    train_accuracies.append(train_accuracy)\n",
    "\n",
    "    correct= 0\n",
    "    total= 0\n",
    "    val_loss= 0.0\n",
    "    simple_lstm_1.eval()\n",
    "\n",
    "    with torch.no_grad():\n",
    "        for X, y, lengths in test_dataloader:\n",
    "            X, y= X.to(device), y.to(device)\n",
    "            pred= simple_lstm_1(X, lengths)\n",
    "            correct+= (y==pred.squeeze(0).argmax(1)).sum().item()\n",
    "            total+= y.size(0)\n",
    "            val_loss+= loss_fn(pred.squeeze(0), y).item() * X.size(0)\n",
    "            \n",
    "        val_accuracy= correct/total\n",
    "        val_loss/= len(test_dataloader.dataset)\n",
    "        test_accuracies.append(val_accuracy)\n",
    "\n",
    "    print(f\"Epoch: {epoch + 1} | Train Loss: {loss.item():.4f} | Train Accuracy: {train_accuracy:.2%} | Val_Accuracy: {val_accuracy:.2%} | Val_Loss: {val_loss:.4f}\")\n",
    "    "
   ]
  },
  {
   "cell_type": "code",
   "execution_count": 15,
   "metadata": {},
   "outputs": [],
   "source": [
    "torch.save(simple_lstm_1.state_dict(), '../models/simple_lstm.pth')"
   ]
  },
  {
   "cell_type": "code",
   "execution_count": 16,
   "metadata": {},
   "outputs": [
    {
     "data": {
      "text/plain": [
       "Text(0, 0.5, 'Accuracy')"
      ]
     },
     "execution_count": 16,
     "metadata": {},
     "output_type": "execute_result"
    },
    {
     "data": {
      "image/png": "[encoded data removed]",
      "text/plain": [
       "<Figure size 1200x500 with 2 Axes>"
      ]
     },
     "metadata": {},
     "output_type": "display_data"
    }
   ],
   "source": [
    "epochs= range(1, len(train_accuracies) + 1)\n",
    "plt.figure(figsize= (12,5))\n",
    "plt.subplot(1,2,1)\n",
    "plt.plot(epochs, train_accuracies)\n",
    "plt.title(\"Train Accuracies\")\n",
    "plt.xlabel(\"Epoch\")\n",
    "plt.ylabel(\"Accuracy\")\n",
    "\n",
    "plt.subplot(1,2,2)\n",
    "plt.plot(epochs, test_accuracies, color= 'orange')\n",
    "plt.title(\"Test Accuracy\")\n",
    "plt.xlabel(\"Epoch\")\n",
    "plt.ylabel(\"Accuracy\")"
   ]
  },
  {
   "cell_type": "code",
   "execution_count": null,
   "metadata": {},
   "outputs": [],
   "source": []
  },
  {
   "cell_type": "code",
   "execution_count": 141,
   "metadata": {},
   "outputs": [
    {
     "data": {
      "text/plain": [
       "('negative', tensor([[[ 3.9731, -4.2142]]]))"
      ]
     },
     "execution_count": 141,
     "metadata": {},
     "output_type": "execute_result"
    }
   ],
   "source": [
    "loaded_lstm= SimpleLSTM(vocab_size= VOCAB_SIZE, embedding_dim= EMBEDDING_DIM, hidden_size= HIDDEN_SIZE)\n",
    "loaded_lstm.load_state_dict(torch.load(\"../models/simple_lstm.pth\"))\n",
    "review= 'i am a huge rachel zegler defender but i draw the line at whatever that was'\n",
    "review= clean_text(review)\n",
    "review= remove_stopwords(review)\n",
    "tokenized_review= tokenize_text(review)\n",
    "lemmatized_review= lemmatize_text(tokenized_review)\n",
    "\n",
    "indexed_tokens= [\n",
    "            vocab.get(token, 1)\n",
    "            for token in lemmatized_review\n",
    "        ]\n",
    "\n",
    "if len(indexed_tokens) > max_length:\n",
    "    indexed_tokens= indexed_tokens[max_length]\n",
    "else:\n",
    "    padding_length= max_length - len(indexed_tokens)\n",
    "    padding= [0] * padding_length\n",
    "    indexed_tokens= indexed_tokens + padding\n",
    "\n",
    "length= len(indexed_tokens)\n",
    "index_tensor= torch.tensor(indexed_tokens, dtype= torch.long)\n",
    "index_tensor= index_tensor.unsqueeze(0)\n",
    "index_tensor.shape\n",
    "length_tensor= torch.tensor([length], dtype= torch.long)\n",
    "with torch.no_grad():\n",
    "    pred= loaded_lstm(index_tensor, length_tensor)\n",
    "sentiment= 'negative' if pred.squeeze().argmax(0) == 0 else 'positive'\n",
    "sentiment, pred"
   ]
  },
  {
   "cell_type": "code",
   "execution_count": 142,
   "metadata": {},
   "outputs": [
    {
     "data": {
      "text/plain": [
       "tensor([[  557,     1,     1, 13645,   793,   132,   911,     0,     0,     0,\n",
       "             0,     0,     0,     0,     0,     0,     0,     0,     0,     0,\n",
       "             0,     0,     0,     0,     0,     0,     0,     0,     0,     0,\n",
       "             0,     0,     0,     0,     0,     0,     0,     0,     0,     0,\n",
       "             0,     0,     0,     0,     0,     0,     0,     0,     0,     0,\n",
       "             0,     0,     0,     0,     0,     0,     0,     0,     0,     0,\n",
       "             0,     0,     0,     0,     0,     0,     0,     0,     0,     0,\n",
       "             0,     0,     0,     0,     0,     0,     0,     0,     0,     0,\n",
       "             0,     0,     0,     0,     0,     0,     0,     0,     0,     0,\n",
       "             0,     0,     0,     0,     0,     0,     0,     0,     0,     0,\n",
       "             0,     0,     0,     0,     0,     0,     0,     0,     0,     0,\n",
       "             0,     0,     0,     0,     0,     0,     0,     0,     0,     0,\n",
       "             0,     0,     0,     0,     0,     0,     0,     0,     0,     0,\n",
       "             0,     0,     0,     0,     0,     0,     0,     0,     0,     0,\n",
       "             0,     0,     0,     0,     0,     0,     0,     0,     0,     0,\n",
       "             0,     0,     0,     0,     0,     0,     0,     0,     0,     0,\n",
       "             0,     0,     0,     0,     0,     0,     0,     0,     0,     0,\n",
       "             0,     0,     0,     0,     0,     0,     0,     0,     0]])"
      ]
     },
     "execution_count": 142,
     "metadata": {},
     "output_type": "execute_result"
    }
   ],
   "source": [
    "index_tensor"
   ]
  },
  {
   "cell_type": "code",
   "execution_count": 143,
   "metadata": {},
   "outputs": [
    {
     "data": {
      "text/plain": [
       "['huge', 'rachel', 'zegler', 'defender', 'draw', 'line', 'whatever']"
      ]
     },
     "execution_count": 143,
     "metadata": {},
     "output_type": "execute_result"
    }
   ],
   "source": [
    "lemmatized_review"
   ]
  }
 ],
 "metadata": {
  "kernelspec": {
   "display_name": "Python 3",
   "language": "python",
   "name": "python3"
  },
  "language_info": {
   "codemirror_mode": {
    "name": "ipython",
    "version": 3
   },
   "file_extension": ".py",
   "mimetype": "text/x-python",
   "name": "python",
   "nbconvert_exporter": "python",
   "pygments_lexer": "ipython3",
   "version": "3.10.12"
  }
 },
 "nbformat": 4,
 "nbformat_minor": 2
}
